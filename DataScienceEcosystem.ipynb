{
 "cells": [
  {
   "cell_type": "markdown",
   "id": "e547f6b6-983b-40e6-9abd-b5f2523ac2df",
   "metadata": {},
   "source": [
    "# Data Science Tools and Ecosystem"
   ]
  },
  {
   "cell_type": "markdown",
   "id": "a8308acb-7efe-4507-affa-570b021e987a",
   "metadata": {},
   "source": [
    "Welcome to my notebook summarizing data science tools and the ecosystem."
   ]
  },
  {
   "cell_type": "markdown",
   "id": "cb7e90f5-091d-41f2-9909-46e85d2f14ba",
   "metadata": {},
   "source": [
    "## Author\n",
    "Stetson Gardner"
   ]
  },
  {
   "cell_type": "markdown",
   "id": "691ba86e-13a4-4da0-8608-5d40326d49e2",
   "metadata": {},
   "source": [
    "**Objectives:**\n",
    "- List popular data science languages\n",
    "- List common data science libraries\n",
    "- List popular and free IDEs for data science\n",
    "- Show simple examples of how Jupyter Notebooks work"
   ]
  },
  {
   "cell_type": "markdown",
   "id": "2fe81662-7fe9-48a9-ae87-3bcc1618b1b8",
   "metadata": {},
   "source": [
    "Popular languages used by data scientists are:\n",
    "1. Python\n",
    "2. R\n",
    "3. Julia\n",
    "4. Scala"
   ]
  },
  {
   "cell_type": "markdown",
   "id": "bd7af798-7195-41b8-b798-16fcf6306d3c",
   "metadata": {},
   "source": [
    "Commonly used libraries for data science include:\n",
    "1. ggplot (in R)\n",
    "2. Pandas (in Python)\n",
    "3. Numpy (in Python)"
   ]
  },
  {
   "cell_type": "markdown",
   "id": "63157a92-5de9-4b2d-87fb-c5bded2c2ae2",
   "metadata": {},
   "source": [
    "|Data Science Tools|\n",
    "|------------------|\n",
    "|R Studio|\n",
    "|VS Code|\n",
    "|Jupyter|"
   ]
  },
  {
   "cell_type": "markdown",
   "id": "b6729baa-81af-42db-a52e-77ef3aedf94d",
   "metadata": {},
   "source": [
    "### Below are a few examples of evaluating arithmetic expressions in Python:"
   ]
  },
  {
   "cell_type": "code",
   "execution_count": 8,
   "id": "048329da-f0a2-411d-99d2-13a35918b1f4",
   "metadata": {},
   "outputs": [
    {
     "data": {
      "text/plain": [
       "17"
      ]
     },
     "execution_count": 8,
     "metadata": {},
     "output_type": "execute_result"
    }
   ],
   "source": [
    "# This is a simple arithmetic expression to multipy then add integers.\n",
    "(3*4)+5"
   ]
  },
  {
   "cell_type": "code",
   "execution_count": 10,
   "id": "97b1e69f-e541-47eb-9776-dcba8e2d2b4a",
   "metadata": {},
   "outputs": [
    {
     "data": {
      "text/plain": [
       "3.3333333333333335"
      ]
     },
     "execution_count": 10,
     "metadata": {},
     "output_type": "execute_result"
    }
   ],
   "source": [
    "# This will convert 200 minutes to hours by dividing by 60.\n",
    "200 / 60"
   ]
  }
 ],
 "metadata": {
  "kernelspec": {
   "display_name": "Python 3 (ipykernel)",
   "language": "python",
   "name": "python3"
  },
  "language_info": {
   "codemirror_mode": {
    "name": "ipython",
    "version": 3
   },
   "file_extension": ".py",
   "mimetype": "text/x-python",
   "name": "python",
   "nbconvert_exporter": "python",
   "pygments_lexer": "ipython3",
   "version": "3.12.7"
  }
 },
 "nbformat": 4,
 "nbformat_minor": 5
}
